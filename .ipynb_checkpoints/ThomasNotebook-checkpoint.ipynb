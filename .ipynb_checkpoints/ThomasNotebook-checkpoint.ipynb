{
 "cells": [
  {
   "cell_type": "code",
   "execution_count": 10,
   "metadata": {},
   "outputs": [
    {
     "ename": "NameError",
     "evalue": "name 'result' is not defined",
     "output_type": "error",
     "traceback": [
      "\u001b[0;31m---------------------------------------------------------------------------\u001b[0m",
      "\u001b[0;31mNameError\u001b[0m                                 Traceback (most recent call last)",
      "\u001b[0;32m<ipython-input-10-2e42e3aa2541>\u001b[0m in \u001b[0;36m<module>\u001b[0;34m\u001b[0m\n\u001b[1;32m     20\u001b[0m \u001b[0;34m\u001b[0m\u001b[0m\n\u001b[1;32m     21\u001b[0m \u001b[0;31m# Set height of bar (we )\u001b[0m\u001b[0;34m\u001b[0m\u001b[0;34m\u001b[0m\u001b[0m\n\u001b[0;32m---> 22\u001b[0;31m \u001b[0mbars1\u001b[0m \u001b[0;34m=\u001b[0m \u001b[0mresult\u001b[0m\u001b[0;34m[\u001b[0m\u001b[0;36m1\u001b[0m\u001b[0;34m]\u001b[0m\u001b[0;34m/\u001b[0m\u001b[0mto_ratio\u001b[0m\u001b[0;34m[\u001b[0m\u001b[0;36m1\u001b[0m\u001b[0;34m]\u001b[0m\u001b[0;34m*\u001b[0m\u001b[0;36m100\u001b[0m\u001b[0;34m\u001b[0m\u001b[0m\n\u001b[0m\u001b[1;32m     23\u001b[0m \u001b[0mbars2\u001b[0m \u001b[0;34m=\u001b[0m \u001b[0mresult\u001b[0m\u001b[0;34m[\u001b[0m\u001b[0;36m2\u001b[0m\u001b[0;34m]\u001b[0m\u001b[0;34m/\u001b[0m\u001b[0mto_ratio\u001b[0m\u001b[0;34m[\u001b[0m\u001b[0;36m2\u001b[0m\u001b[0;34m]\u001b[0m\u001b[0;34m*\u001b[0m\u001b[0;36m100\u001b[0m\u001b[0;34m\u001b[0m\u001b[0m\n\u001b[1;32m     24\u001b[0m \u001b[0mbars3\u001b[0m \u001b[0;34m=\u001b[0m \u001b[0mresult\u001b[0m\u001b[0;34m[\u001b[0m\u001b[0;36m3\u001b[0m\u001b[0;34m]\u001b[0m\u001b[0;34m/\u001b[0m\u001b[0mto_ratio\u001b[0m\u001b[0;34m[\u001b[0m\u001b[0;36m3\u001b[0m\u001b[0;34m]\u001b[0m\u001b[0;34m*\u001b[0m\u001b[0;36m100\u001b[0m\u001b[0;34m\u001b[0m\u001b[0m\n",
      "\u001b[0;31mNameError\u001b[0m: name 'result' is not defined"
     ]
    }
   ],
   "source": [
    "import pandas as pd\n",
    "import matplotlib.pyplot as plt\n",
    "import numpy as np\n",
    "\n",
    "#Bar chart displaying ...\n",
    "\n",
    "df = pd.read_csv(\"data.csv\")    \n",
    "# Data Striping\n",
    "columns_range =df.loc[:, 'Q1':'Q28']\n",
    "#Sort all answers where student has answered the same to all questions out\n",
    "df=df[columns_range.apply(lambda x: min(x) != max(x), 1)]\n",
    "\n",
    "#count how many students answered for each teacher\n",
    "to_ratio= df.groupby(\"instr\")[\"difficulty\"].count()\n",
    "#Count how many students answered for each answer for each teacher\n",
    "count_answers =df.groupby(\"instr\")[\"difficulty\"].apply(pd.value_counts)\n",
    "\n",
    "# Set width of bar\n",
    "bar_width = 0.25\n",
    " \n",
    "# Set height of bar (we )\n",
    "bars1 = result[1]/to_ratio[1]*100\n",
    "bars2 = result[2]/to_ratio[2]*100\n",
    "bars3 = result[3]/to_ratio[3]*100\n",
    " \n",
    "# Set position of bar on X axis\n",
    "r1 = np.arange(len(bars1))\n",
    "r2 = [x + bar_width for x in r1]\n",
    "r3 = [x + bar_width for x in r2]\n",
    " \n",
    "# Make the plot\n",
    "plt.bar(r1, bars1, color='#7f6d5f', width=bar_width, edgecolor='white', label='Instructor 1')\n",
    "plt.bar(r2, bars2, color='#557f2d', width=bar_width, edgecolor='white', label='Instructor 2')\n",
    "plt.bar(r3, bars3, color='#2d7f5e', width=bar_width, edgecolor='white', label='Instructor 3')\n",
    "\n",
    "# Add xticks on the middle of the group bars & set labels\n",
    "plt.xticks([r + bar_width for r in range(len(bars1))], ['1', '2', '3', '4', '5'])\n",
    "plt.xlabel('The Answer', fontweight='bold')\n",
    "plt.ylabel('Quantity of this Answer', fontweight='bold')\n",
    "plt.title(\"To what degree students found it difficult for each teacher mesured in %\")\n",
    "\n",
    "# Create legend & Show graphic\n",
    "plt.legend()\n",
    "plt.show()\n"
   ]
  },
  {
   "cell_type": "code",
   "execution_count": 5,
   "metadata": {},
   "outputs": [
    {
     "name": "stdout",
     "output_type": "stream",
     "text": [
      " class      mean\n",
      "     7  3.823529\n",
      "     2  3.442857\n",
      "    11  3.018595\n",
      "     8  3.000000\n",
      "    12  2.902439\n",
      "     5  2.900915\n",
      "     3  2.803097\n",
      "    10  2.678571\n",
      "     9  2.653240\n",
      "     4  2.647059\n",
      "     6  2.602151\n",
      "     1  2.488449\n",
      "    13  2.461356\n"
     ]
    }
   ],
   "source": [
    "# 2. Is perceived difficulty higher for certain courses?\n",
    "\n",
    "import pandas as pd\n",
    "import matplotlib.pyplot as plt\n",
    "import numpy as np\n",
    "\n",
    "df = pd.read_csv(\"data.csv\")    \n",
    "#take mean values and group by class and sort the values\n",
    "df =df.groupby(\"class\")[\"difficulty\"].mean().reset_index(name='mean').sort_values(['mean'], ascending=False)\n",
    "#print without index\n",
    "print(df.to_string(index=False))\n",
    "\n"
   ]
  },
  {
   "cell_type": "code",
   "execution_count": 6,
   "metadata": {},
   "outputs": [
    {
     "name": "stdout",
     "output_type": "stream",
     "text": [
      "3.1185510428100987 2.72132817274394\n"
     ]
    }
   ],
   "source": [
    "# 3. Is perceived difficulty higher or lower for students who have repeated the course more than once?\n",
    "\n",
    "import pandas as pd\n",
    "import matplotlib.pyplot as plt\n",
    "    \n",
    "df = pd.read_csv(\"data.csv\")\n",
    "\n",
    "filter1=df[\"nb.repeat\"] > 1  \n",
    "filter2=df[\"nb.repeat\"] == 1  \n",
    "\n",
    "print(df[filter1][\"difficulty\"].mean(),df[filter2][\"difficulty\"].mean())\n"
   ]
  },
  {
   "cell_type": "code",
   "execution_count": 1,
   "metadata": {},
   "outputs": [
    {
     "name": "stdout",
     "output_type": "stream",
     "text": [
      "instr\n",
      "1    3.408688\n",
      "2    3.477747\n",
      "3    3.134407\n",
      "dtype: float64\n"
     ]
    },
    {
     "data": {
      "text/plain": [
       "instr\n",
       "1    3.092903\n",
       "2    2.679363\n",
       "3    2.758678\n",
       "dtype: float64"
      ]
     },
     "execution_count": 1,
     "metadata": {},
     "output_type": "execute_result"
    }
   ],
   "source": [
    "import pandas as pd\n",
    "import matplotlib.pyplot as plt\n",
    "import numpy as np\n",
    "\n",
    "df = pd.read_csv(\"data.csv\")\n",
    "\n",
    "#Limit df to instructor col and Q13 to Q28\n",
    "q_range=['instr']\n",
    "for i in range(13,28):\n",
    "    q_range.append('Q'+str(i))\n",
    "\n",
    "#group by instructor and take the mean on each columns\n",
    "df =df[q_range].groupby('instr').mean()\n",
    "#Take the means of each row\n",
    "print(df.mean(axis=1))\n",
    "\n",
    "df2 = pd.read_csv(\"data.csv\")\n",
    "\n",
    "#Limit df to instructor col and Q13 to Q28\n",
    "q_range=['instr','difficulty']\n",
    "\n",
    "#group by instructor and take the mean on each columns\n",
    "df2 =df2[q_range].groupby('instr').mean()\n",
    "#Take the means of each row\n",
    "df2.mean(axis=1)\n"
   ]
  },
  {
   "cell_type": "code",
   "execution_count": 8,
   "metadata": {},
   "outputs": [
    {
     "data": {
      "text/plain": [
       "3    344\n",
       "4    229\n",
       "5     89\n",
       "2     76\n",
       "1     54\n",
       "Name: difficulty, dtype: int64"
      ]
     },
     "execution_count": 8,
     "metadata": {},
     "output_type": "execute_result"
    }
   ],
   "source": [
    "# 5. Is perceived difficulty different for those with higher attendance than for those with lower attendance?\n",
    "\n",
    "import pandas as pd\n",
    "import matplotlib.pyplot as plt\n",
    "import numpy as np\n",
    "\n",
    "df = pd.read_csv(\"data.csv\")\n",
    "\n",
    "high_attendance=df[\"attendance\"] >  2\n",
    "low_attendance=df[\"attendance\"] <  2\n",
    "mid_attendance=df[\"attendance\"] ==  2\n",
    "\n",
    "df[high_attendance][\"difficulty\"].value_counts()\n",
    "df[low_attendance][\"difficulty\"].value_counts()\n",
    "df[mid_attendance][\"difficulty\"].value_counts()\n"
   ]
  },
  {
   "cell_type": "code",
   "execution_count": 9,
   "metadata": {},
   "outputs": [
    {
     "data": {
      "text/plain": [
       "3    542\n",
       "1    440\n",
       "4    434\n",
       "5    203\n",
       "2    158\n",
       "Name: difficulty, dtype: int64"
      ]
     },
     "execution_count": 9,
     "metadata": {},
     "output_type": "execute_result"
    }
   ],
   "source": [
    "# 6. Is the score for Q9 (“I greatly enjoyed the class and was eager to actively participate during the lectures.”)\n",
    "# an indicator for whether or not students find the course difficult?\n",
    "\n",
    "import pandas as pd\n",
    "import matplotlib.pyplot as plt\n",
    "import numpy as np\n",
    "\n",
    "df = pd.read_csv(\"data.csv\")\n",
    "\n",
    "high_score=df[\"Q9\"] >  3\n",
    "low_score=df[\"Q9\"] <  3\n",
    "mid_score=df[\"Q9\"] ==  3\n",
    "\n",
    "\n",
    "df[high_score][\"difficulty\"].value_counts()\n",
    "df[low_score][\"difficulty\"].value_counts()\n",
    "df[mid_score][\"difficulty\"].value_counts()\n"
   ]
  },
  {
   "cell_type": "code",
   "execution_count": null,
   "metadata": {},
   "outputs": [],
   "source": []
  }
 ],
 "metadata": {
  "kernelspec": {
   "display_name": "Python 3",
   "language": "python",
   "name": "python3"
  },
  "language_info": {
   "codemirror_mode": {
    "name": "ipython",
    "version": 3
   },
   "file_extension": ".py",
   "mimetype": "text/x-python",
   "name": "python",
   "nbconvert_exporter": "python",
   "pygments_lexer": "ipython3",
   "version": "3.8.1"
  }
 },
 "nbformat": 4,
 "nbformat_minor": 4
}

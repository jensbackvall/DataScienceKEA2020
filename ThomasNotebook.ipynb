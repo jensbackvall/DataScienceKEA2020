{
 "cells": [
  {
   "cell_type": "code",
   "execution_count": 5,
   "metadata": {},
   "outputs": [
    {
     "name": "stdout",
     "output_type": "stream",
     "text": [
      " class      mean\n",
      "     7  3.823529\n",
      "     2  3.442857\n",
      "    11  3.018595\n",
      "     8  3.000000\n",
      "    12  2.902439\n",
      "     5  2.900915\n",
      "     3  2.803097\n",
      "    10  2.678571\n",
      "     9  2.653240\n",
      "     4  2.647059\n",
      "     6  2.602151\n",
      "     1  2.488449\n",
      "    13  2.461356\n"
     ]
    }
   ],
   "source": [
    "# 2. Is perceived difficulty higher for certain courses?\n",
    "\n",
    "import pandas as pd\n",
    "import matplotlib.pyplot as plt\n",
    "import numpy as np\n",
    "\n",
    "df = pd.read_csv(\"data.csv\")    \n",
    "#take mean values and group by class and sort the values\n",
    "df =df.groupby(\"class\")[\"difficulty\"].mean().reset_index(name='mean').sort_values(['mean'], ascending=False)\n",
    "#print without index\n",
    "print(df.to_string(index=False))\n",
    "\n"
   ]
  },
  {
   "cell_type": "code",
   "execution_count": 6,
   "metadata": {},
   "outputs": [
    {
     "name": "stdout",
     "output_type": "stream",
     "text": [
      "3.1185510428100987 2.72132817274394\n"
     ]
    }
   ],
   "source": [
    "# 3. Is perceived difficulty higher or lower for students who have repeated the course more than once?\n",
    "\n",
    "import pandas as pd\n",
    "import matplotlib.pyplot as plt\n",
    "    \n",
    "df = pd.read_csv(\"data.csv\")\n",
    "\n",
    "filter1=df[\"nb.repeat\"] > 1  \n",
    "filter2=df[\"nb.repeat\"] == 1  \n",
    "\n",
    "print(df[filter1][\"difficulty\"].mean(),df[filter2][\"difficulty\"].mean())\n"
   ]
  },
  {
   "cell_type": "code",
   "execution_count": 7,
   "metadata": {},
   "outputs": [
    {
     "data": {
      "text/plain": [
       "instr\n",
       "1    3.408688\n",
       "2    3.477747\n",
       "3    3.134407\n",
       "dtype: float64"
      ]
     },
     "execution_count": 7,
     "metadata": {},
     "output_type": "execute_result"
    }
   ],
   "source": [
    "# 4. Is perceived difficulty lower for students whose instructors have a higher mean value for Q13-Q28?\n",
    "\n",
    "import pandas as pd\n",
    "import matplotlib.pyplot as plt\n",
    "import numpy as np\n",
    "\n",
    "df = pd.read_csv(\"data.csv\")\n",
    "\n",
    "#Limit df to instructor col and Q13 to Q28\n",
    "q_range=['instr']\n",
    "for i in range(13,28):\n",
    "    q_range.append('Q'+str(i))\n",
    "\n",
    "#group by instructor and take the mean on each columns\n",
    "df =df[q_range].groupby('instr').mean()\n",
    "#Take the means of each row\n",
    "df.mean(axis=1)\n"
   ]
  },
  {
   "cell_type": "code",
   "execution_count": 8,
   "metadata": {},
   "outputs": [
    {
     "data": {
      "text/plain": [
       "3    344\n",
       "4    229\n",
       "5     89\n",
       "2     76\n",
       "1     54\n",
       "Name: difficulty, dtype: int64"
      ]
     },
     "execution_count": 8,
     "metadata": {},
     "output_type": "execute_result"
    }
   ],
   "source": [
    "# 5. Is perceived difficulty different for those with higher attendance than for those with lower attendance?\n",
    "\n",
    "import pandas as pd\n",
    "import matplotlib.pyplot as plt\n",
    "import numpy as np\n",
    "\n",
    "df = pd.read_csv(\"data.csv\")\n",
    "\n",
    "high_attendance=df[\"attendance\"] >  2\n",
    "low_attendance=df[\"attendance\"] <  2\n",
    "mid_attendance=df[\"attendance\"] ==  2\n",
    "\n",
    "df[high_attendance][\"difficulty\"].value_counts()\n",
    "df[low_attendance][\"difficulty\"].value_counts()\n",
    "df[mid_attendance][\"difficulty\"].value_counts()\n"
   ]
  },
  {
   "cell_type": "code",
   "execution_count": 9,
   "metadata": {},
   "outputs": [
    {
     "data": {
      "text/plain": [
       "3    542\n",
       "1    440\n",
       "4    434\n",
       "5    203\n",
       "2    158\n",
       "Name: difficulty, dtype: int64"
      ]
     },
     "execution_count": 9,
     "metadata": {},
     "output_type": "execute_result"
    }
   ],
   "source": [
    "# 6. Is the score for Q9 (“I greatly enjoyed the class and was eager to actively participate during the lectures.”)\n",
    "# an indicator for whether or not students find the course difficult?\n",
    "\n",
    "import pandas as pd\n",
    "import matplotlib.pyplot as plt\n",
    "import numpy as np\n",
    "\n",
    "df = pd.read_csv(\"data.csv\")\n",
    "\n",
    "high_score=df[\"Q9\"] >  3\n",
    "low_score=df[\"Q9\"] <  3\n",
    "mid_score=df[\"Q9\"] ==  3\n",
    "\n",
    "\n",
    "df[high_score][\"difficulty\"].value_counts()\n",
    "df[low_score][\"difficulty\"].value_counts()\n",
    "df[mid_score][\"difficulty\"].value_counts()\n"
   ]
  },
  {
   "cell_type": "code",
   "execution_count": null,
   "metadata": {},
   "outputs": [],
   "source": []
  }
 ],
 "metadata": {
  "kernelspec": {
   "display_name": "Python 3",
   "language": "python",
   "name": "python3"
  },
  "language_info": {
   "codemirror_mode": {
    "name": "ipython",
    "version": 3
   },
   "file_extension": ".py",
   "mimetype": "text/x-python",
   "name": "python",
   "nbconvert_exporter": "python",
   "pygments_lexer": "ipython3",
   "version": "3.6.4"
  }
 },
 "nbformat": 4,
 "nbformat_minor": 4
}
